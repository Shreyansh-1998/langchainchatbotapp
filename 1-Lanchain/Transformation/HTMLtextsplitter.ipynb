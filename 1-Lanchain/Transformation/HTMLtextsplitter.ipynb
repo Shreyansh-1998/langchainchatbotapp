{
 "cells": [
  {
   "cell_type": "code",
   "execution_count": 2,
   "metadata": {},
   "outputs": [
    {
     "data": {
      "text/plain": [
       "[Document(metadata={'Header 2': 'CHINA'}, page_content='China has the largest population in the world.'),\n",
       " Document(metadata={'Header 2': 'INDIA'}, page_content='India has the second largest population in the world.'),\n",
       " Document(metadata={'Header 2': 'UNITED STATES'}, page_content='United States has the third largest population in the world.')]"
      ]
     },
     "execution_count": 2,
     "metadata": {},
     "output_type": "execute_result"
    }
   ],
   "source": [
    "from langchain_text_splitters import HTMLHeaderTextSplitter\n",
    "html_string=\"\"\"\n",
    "<!DOCTYPE html>\n",
    "<html>\n",
    " \n",
    "<head>\n",
    "    <style>\n",
    "        .country {\n",
    "            background-color: black;\n",
    "            color: white;\n",
    "            padding: 8px;\n",
    "        }\n",
    "    </style>\n",
    "</head>\n",
    " \n",
    "<body>\n",
    "    <h2 class=\"country\">India</h2>\n",
    " \n",
    "    <p>\n",
    "        India has the largest population\n",
    "        in the world.\n",
    "    </p>\n",
    " \n",
    "    <h2 class=\"country\">INDIA</h2>\n",
    "\n",
    "    <h2 class=\"country\">CHINA</h2>\n",
    " \n",
    "    <p>\n",
    "        China has the second argest population\n",
    "        in the world.\n",
    "    </p>\n",
    " \n",
    "    <h2 class=\"country\">INDIA</h2>\n",
    " \n",
    "    <p>\n",
    "        India has the second largest\n",
    "        population in the world.\n",
    "    </p>\n",
    " \n",
    "    <h2 class=\"country\">UNITED STATES</h2>\n",
    " \n",
    "    <p>\n",
    "        United States has the third largest\n",
    "        population in the world.\n",
    "    </p>\n",
    "</body>\n",
    " \n",
    "</html>\n",
    "\"\"\"\n",
    "headers_to_split_on=[(\"h1\",\"Header 1\"),\n",
    "                     (\"h2\", \"Header 2\")\n",
    "                     ]\n",
    "html_splitter=HTMLHeaderTextSplitter(headers_to_split_on)\n",
    "html_header_splits=html_splitter.split_text(html_string)\n",
    "html_header_splits\n"
   ]
  },
  {
   "cell_type": "code",
   "execution_count": null,
   "metadata": {},
   "outputs": [],
   "source": []
  }
 ],
 "metadata": {
  "kernelspec": {
   "display_name": "Python 3",
   "language": "python",
   "name": "python3"
  },
  "language_info": {
   "codemirror_mode": {
    "name": "ipython",
    "version": 3
   },
   "file_extension": ".py",
   "mimetype": "text/x-python",
   "name": "python",
   "nbconvert_exporter": "python",
   "pygments_lexer": "ipython3",
   "version": "3.10.14"
  }
 },
 "nbformat": 4,
 "nbformat_minor": 2
}
